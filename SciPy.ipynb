{
 "cells": [
  {
   "cell_type": "code",
   "execution_count": 166,
   "metadata": {},
   "outputs": [],
   "source": [
    "import numpy as np\n",
    "from numpy import poly1d, exp\n",
    "import scipy.special, scipy.integrate, scipy.linalg, scipy.fftpack, scipy.stats\n",
    "from scipy.optimize import minimize\n",
    "from scipy.interpolate import interp1d\n",
    "import matplotlib.pyplot as plt\n",
    "np.set_printoptions(edgeitems=100, linewidth=100000)"
   ]
  },
  {
   "cell_type": "markdown",
   "metadata": {},
   "source": [
    "# POLYNOMIAL"
   ]
  },
  {
   "cell_type": "code",
   "execution_count": null,
   "metadata": {},
   "outputs": [],
   "source": [
    "p = poly1d([3, 6, 8])\n",
    "p1 = poly1d([1, 2, 3], variable='y')\n",
    "p.r # returns root of p\n",
    "poly1d(p) # returns the coefficient of the polynomial\n",
    "print(p.integ(k = 6)) # integrates polynomial p; k = integration constant (optional)\n",
    "print(p.deriv()) # differentiates polynomial p"
   ]
  },
  {
   "cell_type": "markdown",
   "metadata": {},
   "source": [
    "# SciPy SPECIAL FUNCTIONS"
   ]
  },
  {
   "cell_type": "code",
   "execution_count": null,
   "metadata": {},
   "outputs": [],
   "source": [
    "arr = np.arange(1, 11)\n",
    "scipy.special.cbrt(arr) # returns cube root\n",
    "scipy.special.exp2(3) # returns 2**3 \n",
    "scipy.special.radian(30, 10, 50) # agrs: degrees; minutes; seconds\n",
    "scipy.special.cosdg(30) # returns cosine(30 deg)\n",
    "scipy.special.perm(6, 2) # returns 6P2\n",
    "scipy.special.comb(6, 2) # retuns 6C2\n"
   ]
  },
  {
   "cell_type": "markdown",
   "metadata": {},
   "source": [
    "# INTEGRATION"
   ]
  },
  {
   "cell_type": "code",
   "execution_count": null,
   "metadata": {},
   "outputs": [],
   "source": [
    "f = lambda x: exp(-x**3)\n",
    "scipy.integrate.quad(f, 1, 2) # scipy.integrate.quad(func, lower_limit, upper_limit)\n",
    "# DOUBLE INTEGRATION\n",
    "f = lambda x, y: x + np.sin(y) + 1\n",
    "scipy.integrate.dblquad(f, -np.pi, np.pi, lambda y: 0, lambda y: 2) # inner domain: y first then x\n",
    "f = lambda y, x: x + np.sin(y) + 1\n",
    "scipy.integrate.dblquad(f, 0, 2, lambda x: -np.pi, lambda x: np.pi) # same as before\n",
    "f = lambda y, x: x*y**2\n",
    "scipy.integrate.dblquad(f, 0, 2, lambda x: 0, lambda x: 1) # inner domain: x first then y\n"
   ]
  },
  {
   "cell_type": "markdown",
   "metadata": {},
   "source": [
    "# LINEAR ALGEBRA"
   ]
  },
  {
   "cell_type": "code",
   "execution_count": null,
   "metadata": {},
   "outputs": [],
   "source": [
    "a = np.array([[1, 2],\n",
    "              [3, 4]])\n",
    "scipy.linalg.det(a) # returns the determinant of the matrix\n",
    "scipy.linalg.inv(a) # returns the inverse of the matrix\n",
    "scipy.linalg.eig(a) # returns two arrays: eigenvalues & eigenvectors\n",
    "b = np.array([[2], [3], [5]])\n",
    "A = np.array([[1, 2, 3],\n",
    "              [4, 5, 6],\n",
    "              [7, 8, 8]])\n",
    "np.linalg.solve(A, b) # returns solution to linear equation (Ax = b)\n",
    "v = np.array([1, 2, 3])\n",
    "w = np.array([0, 2, 1])\n",
    "np.cross(v, w) # returns the cross product of v and w\n"
   ]
  },
  {
   "cell_type": "markdown",
   "metadata": {},
   "source": [
    "# FOURIER TRANSFORMATION"
   ]
  },
  {
   "cell_type": "code",
   "execution_count": null,
   "metadata": {},
   "outputs": [],
   "source": [
    "a = np.array([1, 5, 6, 14, 25, 40])\n",
    "y = scipy.fftpack.fft(a) # fourier transform\n",
    "invy = scipy.fftpack.ifft(a) # inverse fourier transform\n",
    "i = scipy.fftpack.fft(invy) # returns array_a in complex number form\n"
   ]
  },
  {
   "cell_type": "markdown",
   "metadata": {},
   "source": [
    "# INTERPOLATION"
   ]
  },
  {
   "cell_type": "code",
   "execution_count": null,
   "metadata": {},
   "outputs": [],
   "source": [
    "x = np.arange(0, 6, 1)\n",
    "y = np.array([0.1, 0.2, 0.3, 0.5, 1.0, 0.9])\n",
    "xp = np.linspace(0, 5, 100)\n",
    "plt.plot(x, y, 'bo')\n",
    "y1 = interp1d(x, y, kind='linear')\n",
    "plt.plot(xp, y1(xp), 'r-')\n",
    "y2 = interp1d(x, y, kind='quadratic')\n",
    "plt.plot(xp, y2(xp), 'b--')\n",
    "y3 = interp1d(x, y, kind='cubic')\n",
    "plt.plot(xp, y3(xp), 'g+')\n",
    "plt.legend(['Point', 'Linear', 'Quadratic', 'Cubic'])\n",
    "plt.show()\n"
   ]
  },
  {
   "cell_type": "markdown",
   "metadata": {},
   "source": [
    "# STATISTICS"
   ]
  },
  {
   "cell_type": "code",
   "execution_count": null,
   "metadata": {},
   "outputs": [],
   "source": [
    "x_norm = scipy.stats.norm.rvs(size = 5) # returns rvs ~ N(0, 1)\n",
    "scipy.stats.norm.cdf(np.array([1, -1, 0, 1, 3, 4, -2, 6])) # returns the cdf/area under the curve\n",
    "scipy.stats.norm.ppf(0.5) # returns the ppf/z-value\n",
    "arr = np.array([3, 5, 3, 2, 0, 9, 8, 6, 7, 1, 2, 4])\n",
    "arr.min(); arr.max()\n",
    "arr.mean()\n",
    "np.median(arr) # returns the median of the array\n",
    "scipy.stats.mode(arr) # returns the mode of the array\n",
    "arr.std(); arr.var()\n",
    "g = scipy.stats.mstats.gmean([1, 5, 20]) # returns the geometric mean/nth root of the product of n numbers\n",
    "h = scipy.stats.mstats.hmean([1, 5, 20]) # returns the harmonic mean/reciprocal of the mean of the reciprocals\n"
   ]
  },
  {
   "cell_type": "markdown",
   "metadata": {},
   "source": [
    "# SCIENTIFIC CONSTANTS"
   ]
  },
  {
   "cell_type": "code",
   "execution_count": null,
   "metadata": {},
   "outputs": [],
   "source": [
    "scipy.constants.find()\n",
    "scipy.constants.value('Planck constant')\n",
    "scipy.constants.pi"
   ]
  },
  {
   "cell_type": "markdown",
   "metadata": {},
   "source": [
    "# Non Linear Programming"
   ]
  },
  {
   "cell_type": "code",
   "execution_count": 256,
   "metadata": {},
   "outputs": [
    {
     "name": "stdout",
     "output_type": "stream",
     "text": [
      "16\n",
      "     fun: 17.01401724556073\n",
      "     jac: array([14.57227039,  1.37940764,  2.37940764,  9.56415081])\n",
      " message: 'Optimization terminated successfully'\n",
      "    nfev: 25\n",
      "     nit: 5\n",
      "    njev: 5\n",
      "  status: 0\n",
      " success: True\n",
      "       x: array([1.        , 4.74299607, 3.82115466, 1.37940764])\n"
     ]
    }
   ],
   "source": [
    "def objective(x):\n",
    "    x1 = x[0]\n",
    "    x2 = x[1]\n",
    "    x3 = x[2]\n",
    "    x4 = x[3]\n",
    "    return x1 * x4 * (x1 + x2 + x3) + x3\n",
    "\n",
    "def constraint1(x):\n",
    "    return x[0] * x[1] * x[2] * x[3] - 25\n",
    "\n",
    "def constraint2(x):\n",
    "    tot = 0\n",
    "    for i in range(4):\n",
    "        tot += x[i]**2\n",
    "    return tot - 40\n",
    "\n",
    "x0 = [1, 5, 5, 1]\n",
    "print(objective(x0))\n",
    "\n",
    "b = (1.0, 5.0)\n",
    "bnds = (b, b, b, b)\n",
    "con1 = {'type':'ineq', 'fun':constraint1}\n",
    "con2 = {'type':'eq', 'fun':constraint2}\n",
    "cons = [con1, con2]\n",
    "sol = minimize(objective, x0, method='SLSQP', bounds=bnds, constraints=cons)\n",
    "print(sol)"
   ]
  },
  {
   "cell_type": "code",
   "execution_count": 259,
   "metadata": {},
   "outputs": [
    {
     "name": "stdout",
     "output_type": "stream",
     "text": [
      "24.9999999509456\n",
      "40.000000092965536\n"
     ]
    }
   ],
   "source": [
    "x1 = 1\n",
    "x4 = 4.74299607\n",
    "x2 = 3.82115466\n",
    "x3 = 1.37940764\n",
    "\n",
    "print(x1*x2*x3*x4)\n",
    "print(x1**2 + x2**2 + x3**2 + x4**2)\n"
   ]
  },
  {
   "cell_type": "code",
   "execution_count": 221,
   "metadata": {},
   "outputs": [
    {
     "name": "stdout",
     "output_type": "stream",
     "text": [
      "-3.0\n",
      "0.0\n",
      "2.0\n"
     ]
    }
   ],
   "source": [
    "arr = np.array([[2, 5, 3],\n",
    "                [4, 0, 8],\n",
    "                [1, 3, 0]])\n",
    "v = np.array([-3, 0, 2])\n",
    "\n",
    "inv = scipy.linalg.inv(arr)\n",
    "res = np.matmul(inv, v)\n",
    "x, y, z = res[0], res[1], res[2]\n",
    "\n",
    "print(2*x + 5*y + 3*z)\n",
    "print(4*x + 8*z)\n",
    "print(x + 3*y)\n"
   ]
  },
  {
   "cell_type": "code",
   "execution_count": 223,
   "metadata": {},
   "outputs": [
    {
     "name": "stdout",
     "output_type": "stream",
     "text": [
      "[10.61111111 -3.72222222 -6.77777778] \n",
      "\n",
      "0.9999999999999964\n",
      "5.999999999999993\n",
      "7.999999999999993\n"
     ]
    }
   ],
   "source": [
    "arr = np.array([[3, 1, 4],\n",
    "                [5, 9, 2],\n",
    "                [5, 3, 5]])\n",
    "v = np.array([1, 6, 8])\n",
    "\n",
    "inv = scipy.linalg.inv(arr)\n",
    "res = np.matmul(inv, v)\n",
    "x, y, z = res[0], res[1], res[2]\n",
    "print(res, '\\n')\n",
    "print(3*x + 1*y + 4*z)\n",
    "print(5*x + 9*y + 2*z)\n",
    "print(5*x + 3*y + 5*z)\n"
   ]
  },
  {
   "cell_type": "code",
   "execution_count": 253,
   "metadata": {},
   "outputs": [
    {
     "data": {
      "text/plain": [
       "array([0., 0.])"
      ]
     },
     "execution_count": 253,
     "metadata": {},
     "output_type": "execute_result"
    }
   ],
   "source": [
    "a = np.array([[3, 1],\n",
    "              [0, 2]])\n",
    "eigv_2 = np.linalg.eig(a)[1][1]\n",
    "eigv_1 = np.linalg.eig(a)[1][0]\n",
    "\n",
    "m = np.array([[3-2, 1],\n",
    "              [0, 2-2]])\n",
    "\n",
    "eigv1 = np.linalg.eig(a)[1][:,0]\n",
    "eigv2 = np.linalg.eig(a)[1][:,1]\n",
    "np.matmul(m, eigv2)\n"
   ]
  },
  {
   "cell_type": "code",
   "execution_count": 254,
   "metadata": {},
   "outputs": [
    {
     "data": {
      "text/plain": [
       "array([[4, 0],\n",
       "       [0, 9]])"
      ]
     },
     "execution_count": 254,
     "metadata": {},
     "output_type": "execute_result"
    }
   ],
   "source": [
    "m = np.array([[2, 0],\n",
    "              [0, 3]])\n",
    "np.matmul(m, m)"
   ]
  }
 ],
 "metadata": {
  "kernelspec": {
   "display_name": "Python 3",
   "language": "python",
   "name": "python3"
  },
  "language_info": {
   "codemirror_mode": {
    "name": "ipython",
    "version": 3
   },
   "file_extension": ".py",
   "mimetype": "text/x-python",
   "name": "python",
   "nbconvert_exporter": "python",
   "pygments_lexer": "ipython3",
   "version": "3.7.3"
  }
 },
 "nbformat": 4,
 "nbformat_minor": 4
}
