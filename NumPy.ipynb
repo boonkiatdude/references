{
 "cells": [
  {
   "cell_type": "code",
   "execution_count": 1,
   "metadata": {},
   "outputs": [],
   "source": [
    "import numpy as np\n",
    "np.set_printoptions(edgeitems=100, linewidth=100000)"
   ]
  },
  {
   "cell_type": "markdown",
   "metadata": {},
   "source": [
    "# CREATE NP.ARRAY"
   ]
  },
  {
   "cell_type": "code",
   "execution_count": 90,
   "metadata": {},
   "outputs": [],
   "source": [
    "a = np.array([1.0, 2.0, 3.0], dtype='int8')\n",
    "arr = np.array([[9, 8, 7, 6, 7, 0, 2],\n",
    "                [6, 5, 4, 2, 4, 3, 5],\n",
    "                [3, 8, 1, 5, 9, 0, 1],\n",
    "                [2, 0, 1, 2, 7, 8, 8],\n",
    "                [0, 1, 4, 3, 3, 6, 7],\n",
    "                [2, 4, 0, 5, 9, 0, 3],\n",
    "                [3, 2, 1, 4, 5, 3, 1]])\n",
    "arr_3d = np.array([[[1, 2], [3, 4]], [[5, 6], [7, 8]]]) # 3d-array\n"
   ]
  },
  {
   "cell_type": "markdown",
   "metadata": {},
   "source": [
    "# INSPECT ARRAY"
   ]
  },
  {
   "cell_type": "code",
   "execution_count": null,
   "metadata": {},
   "outputs": [],
   "source": [
    "arr.shape\n",
    "arr.ndim\n",
    "arr.dtype # returns data type of element\n",
    "arr.nbytes # returns memory size of the whole array\n",
    "arr.itemsize # returns memory size of one element\n",
    "arr.size # returns total number of elements\n",
    "len(arr) # returns number of rows\n"
   ]
  },
  {
   "cell_type": "markdown",
   "metadata": {},
   "source": [
    "# ACCESSING"
   ]
  },
  {
   "cell_type": "code",
   "execution_count": null,
   "metadata": {},
   "outputs": [],
   "source": [
    "arr[0, 1] # select element located at 1st row 2nd column\n",
    "arr[:,1] # select all rows of 2nd column\n",
    "arr[0, 1:6:2] # [startindex:endindex:stepsize]\n",
    "arr([0, 1, 7])\n",
    "arr[[0, 1, 6]] # returns an array with the 1st, 2nd and last rows\n"
   ]
  },
  {
   "cell_type": "markdown",
   "metadata": {},
   "source": [
    "# UPDATE ARRAY"
   ]
  },
  {
   "cell_type": "code",
   "execution_count": null,
   "metadata": {},
   "outputs": [],
   "source": [
    "arr[1, 5] = 20\n",
    "arr[:, 2] = [0, 0, 0, 0, 0, 0, 0] # assigning entire 3rd column to zeros\n",
    "arr_3d[0][1, 0]\n",
    "arr_3d[0, 1, 0] # same as above\n",
    "arr_3d[:, 1, :] = [[0, 0], [0, 0]]\n"
   ]
  },
  {
   "cell_type": "markdown",
   "metadata": {},
   "source": [
    "# UNIQUE ARRAYS"
   ]
  },
  {
   "cell_type": "code",
   "execution_count": null,
   "metadata": {},
   "outputs": [],
   "source": [
    "np.identity(5) # returns a 5 x 5 identity matrix\n",
    "np.zeros(5)\n",
    "np.zeros([2, 3]) # returns a 2 x 3 zero matrix\n",
    "np.ones([4, 2, 2], dtype='int32') # returns a 3d array\n",
    "np.full([3, 3], 99) # np.full( [dimension:rows, dimension:colummns], value )\n",
    "np.full_like(arr, 4)\n",
    "a = np.array([1, 2, 3])\n",
    "r1 = np.repeat(a, 3, axis=0) # axis-rows: 0; axis-cols: 1 \n",
    "x = np.arange(0, 6, 2) # returns array([0, 2, 4]); (start:0, end:6, step:2)\n",
    "xp = np.linspace(0, 5, 100) # start:0, stop:5, num-items:100\n"
   ]
  },
  {
   "cell_type": "markdown",
   "metadata": {},
   "source": [
    "# RANDOM VALUES"
   ]
  },
  {
   "cell_type": "code",
   "execution_count": null,
   "metadata": {},
   "outputs": [],
   "source": [
    "np.random.rand(4, 2) # returns a 4 x 2 array where Element ~ UNI(0, 1)\n",
    "np.random.rand(4, 2) * 100\n",
    "np.random.random_sample([4, 2]) # same as above\n",
    "np.random.randint(4, 7, size=[3, 3]) # start:4, end not including 7\n"
   ]
  },
  {
   "cell_type": "markdown",
   "metadata": {},
   "source": [
    "# ARRAY METHODS"
   ]
  },
  {
   "cell_type": "code",
   "execution_count": null,
   "metadata": {},
   "outputs": [],
   "source": [
    "a = np.array([1, 2, 3])\n",
    "b = a.copy()\n",
    "np.isnan(a) # checks if any of the elements are NAs \n",
    "np.isinf(a) # checks if any of the elements are infinity\n",
    "np.diag(arr) # returns the diagonal of arr\n"
   ]
  },
  {
   "cell_type": "markdown",
   "metadata": {},
   "source": [
    "# MATHEMATICS"
   ]
  },
  {
   "cell_type": "code",
   "execution_count": null,
   "metadata": {},
   "outputs": [],
   "source": [
    "np.cos(a)\n",
    "np.pi # returns pi value\n",
    "a = np.random.rand(5, 5) * 100\n",
    "a = np.floor(a) # rounds down every element\n",
    "a = np.ceil(a) # rounds up every element\n",
    "a = np.round(a)\n",
    "a[[1, 1, 2], [3, 4, 3]] = np.nan\n",
    "a[[3, 4, 3], [0, 1, 2]] = np.inf\n"
   ]
  },
  {
   "cell_type": "markdown",
   "metadata": {},
   "source": [
    "# LINEAR ALGEBRA"
   ]
  },
  {
   "cell_type": "code",
   "execution_count": null,
   "metadata": {},
   "outputs": [],
   "source": [
    "a = np.ones([2, 3])\n",
    "b = np.full([3, 2], 2)\n",
    "c = np.random.randint(0, 10, size=[2, 2])\n",
    "np.matmul(a, b) # matrix multiplication\n",
    "a.dot(b) # same as above\n",
    "np.linalg.multi_dot([a, b, c]) # multiply several matrices\n",
    "a @ b @ c # same as above\n",
    "\n",
    "a = np.array([[6, 1, 1],\n",
    "              [4, -2, 5],\n",
    "              [2, 8, 7]])\n",
    "np.linalg.det(a) # returns the determinant of the matrix\n",
    "np.linalg.inv(a) # returns the inverse of the matrix\n",
    "np.trace(a) # returns the sum along the diagonals\n",
    "np.transpose(a)\n",
    "v = np.array([1, 2, 3])\n",
    "w = np.array([0, 2, 1])\n",
    "np.cross(v, w) # returns the cross product of v and w\n"
   ]
  },
  {
   "cell_type": "markdown",
   "metadata": {},
   "source": [
    "# STATISTICS"
   ]
  },
  {
   "cell_type": "code",
   "execution_count": null,
   "metadata": {},
   "outputs": [],
   "source": [
    "s = np.array([[1, 2, 3],\n",
    "              [4, 5, 6]])\n",
    "np.min(s, axis=0) # axis-rows: 1; axis-cols: 0\n"
   ]
  },
  {
   "cell_type": "markdown",
   "metadata": {},
   "source": [
    "# RESHAPING"
   ]
  },
  {
   "cell_type": "code",
   "execution_count": null,
   "metadata": {},
   "outputs": [],
   "source": [
    "before = np.array([[1, 2, 3, 4],\n",
    "                   [5, 6, 7, 8]])\n",
    "print(before)\n",
    "after = before.reshape([4, 2])\n",
    "print(after)\n"
   ]
  },
  {
   "cell_type": "markdown",
   "metadata": {},
   "source": [
    "# STACKING"
   ]
  },
  {
   "cell_type": "code",
   "execution_count": null,
   "metadata": {},
   "outputs": [],
   "source": [
    "a1 = np.array([1, 2, 3, 4])\n",
    "a2 = np.array([5, 6, 7, 8])\n",
    "a3 = np.array([9, 0, 1, 0])\n",
    "np.vstack([a1, a2, a2]) # vertical stack a.k.a row bind\n",
    "np.hstack([a1, a2]) # horizontal stack a.k.a column bind\n"
   ]
  },
  {
   "cell_type": "markdown",
   "metadata": {},
   "source": [
    "# LOAD DATA"
   ]
  },
  {
   "cell_type": "code",
   "execution_count": null,
   "metadata": {},
   "outputs": [],
   "source": [
    "filedata = np.genfromtxt('../numpy_arr.txt', delimiter=',') # reads from .txt file\n",
    "filedata = filedata.astype('int32')\n"
   ]
  },
  {
   "cell_type": "markdown",
   "metadata": {},
   "source": [
    "# BOOLEAN MASKING AND ADVANCED INDEXING"
   ]
  },
  {
   "cell_type": "code",
   "execution_count": null,
   "metadata": {},
   "outputs": [],
   "source": [
    "filedata[filedata > 50]\n",
    "np.any((filedata > 50) & (filedata < 100), axis=0) # checks if any of the columns have at least 1 element > 50\n",
    "arr = np.arange(1, 31).reshape([6, 5])\n",
    "arr[[0, 1, 2, 3], [1, 2, 3, 4]]\n",
    "arr[[0, 4, 5], 3:5]\n"
   ]
  },
  {
   "cell_type": "markdown",
   "metadata": {},
   "source": [
    "# FILTERING"
   ]
  },
  {
   "cell_type": "code",
   "execution_count": null,
   "metadata": {},
   "outputs": [],
   "source": [
    "np.where(filedata > 100)\n",
    "np.where(np.isinf(a)) # returns row and column index\n"
   ]
  },
  {
   "cell_type": "code",
   "execution_count": null,
   "metadata": {},
   "outputs": [],
   "source": []
  },
  {
   "cell_type": "code",
   "execution_count": 309,
   "metadata": {},
   "outputs": [
    {
     "data": {
      "text/plain": [
       "array([[35., 79., 99., 28., 52.],\n",
       "       [38., 24., 29., nan, nan],\n",
       "       [27., 68., 63., nan, 71.],\n",
       "       [inf, 44., inf, 46., 72.],\n",
       "       [83., inf, 66., 74., 83.]])"
      ]
     },
     "execution_count": 309,
     "metadata": {},
     "output_type": "execute_result"
    }
   ],
   "source": [
    "a = np.random.rand(5, 5) * 100\n",
    "a = np.floor(a)\n",
    "a[[1, 1, 2], [3, 4, 3]] = np.nan\n",
    "a[[3, 4, 3], [0, 1, 2]] = np.inf\n",
    "\n",
    "print(np.where(np.isinf(a)))\n",
    "print(np.where(np.isnan(a)))\n"
   ]
  },
  {
   "cell_type": "code",
   "execution_count": 314,
   "metadata": {},
   "outputs": [
    {
     "name": "stdout",
     "output_type": "stream",
     "text": [
      "[[  1  13  21  11 196  75   4   3  34   6   7   8   0   1   2   3   4   5]\n",
      " [  3  42  12  33 766  75   4  55   6   4   3   4   5   6   7   0  11  12]\n",
      " [  1  22  33  11 999  11   2   1  78   0   1   2   9   8   7   1  76  88]]\n",
      "196\n",
      "766\n",
      "999\n"
     ]
    }
   ],
   "source": []
  }
 ],
 "metadata": {
  "kernelspec": {
   "display_name": "Python 3",
   "language": "python",
   "name": "python3"
  },
  "language_info": {
   "codemirror_mode": {
    "name": "ipython",
    "version": 3
   },
   "file_extension": ".py",
   "mimetype": "text/x-python",
   "name": "python",
   "nbconvert_exporter": "python",
   "pygments_lexer": "ipython3",
   "version": "3.7.3"
  }
 },
 "nbformat": 4,
 "nbformat_minor": 4
}
