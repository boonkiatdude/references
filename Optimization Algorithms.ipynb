{
 "cells": [
  {
   "cell_type": "code",
   "execution_count": 1,
   "metadata": {},
   "outputs": [],
   "source": [
    "import numpy as np\n",
    "import scipy.optimize\n",
    "import random\n",
    "import matplotlib as mpl\n",
    "from scipy.optimize import minimize\n",
    "from matplotlib import pyplot as plt\n",
    "import collections\n",
    "np.set_printoptions(edgeitems=100, linewidth=100000)\n"
   ]
  },
  {
   "cell_type": "markdown",
   "metadata": {},
   "source": [
    "# PAPER BOX PROBLEM [DIFFERENTIATION]"
   ]
  },
  {
   "cell_type": "code",
   "execution_count": 2,
   "metadata": {},
   "outputs": [
    {
     "name": "stdout",
     "output_type": "stream",
     "text": [
      "     fun: -1999.9999999933748\n",
      "     jac: array([-200.00021362, -399.99916077])\n",
      " message: 'Optimization terminated successfully'\n",
      "    nfev: 17\n",
      "     nit: 5\n",
      "    njev: 5\n",
      "  status: 0\n",
      " success: True\n",
      "       x: array([19.99997898,  5.00001051])\n"
     ]
    }
   ],
   "source": [
    "def objective(arr):\n",
    "    s = arr[0]\n",
    "    x = arr[1]\n",
    "    return -x * s**2\n",
    "\n",
    "def constraint(arr):\n",
    "    s = arr[0]\n",
    "    x = arr[1]\n",
    "    return 2*x + s - 30\n",
    "\n",
    "x0 = [10, 10]\n",
    "b = (1, np.inf)\n",
    "bnds = (b, b)\n",
    "cons = [{'type':'eq', 'fun':constraint}]\n",
    "sol = minimize(objective, x0, method='SLSQP', bounds=bnds, constraints=cons)\n",
    "print(sol)"
   ]
  },
  {
   "cell_type": "code",
   "execution_count": 3,
   "metadata": {},
   "outputs": [
    {
     "data": {
      "text/plain": [
       "<matplotlib.legend.Legend at 0x119057d0>"
      ]
     },
     "execution_count": 3,
     "metadata": {},
     "output_type": "execute_result"
    },
    {
     "data": {
      "image/png": "[encoded data removed]",
      "text/plain": [
       "<Figure size 432x288 with 1 Axes>"
      ]
     },
     "metadata": {
      "needs_background": "light"
     },
     "output_type": "display_data"
    }
   ],
   "source": [
    "L = 30\n",
    "x = np.linspace(0, 30/2, 200)\n",
    "V = lambda x: x * (L-2*x)**2\n",
    "\n",
    "# plt.style.use('fivethirtyeight')\n",
    "plt.plot(x, V(x), label='V(x)', lw=3)\n",
    "plt.scatter(L/6, V(L/6), lw=3, color='red', zorder=3)\n",
    "plt.plot([L/6, L/6], [0, V(L/6)], '--', lw=2)\n",
    "\n",
    "plt.title('Volume as a function of $x$')\n",
    "plt.ylabel('Volumne of box'); plt.xlabel('x')\n",
    "plt.legend(loc='best')\n",
    "# plt.tight_layout()"
   ]
  },
  {
   "cell_type": "markdown",
   "metadata": {},
   "source": [
    "# ADVERTISEMENT PROBLEM [LEAST SQUARES]"
   ]
  },
  {
   "cell_type": "code",
   "execution_count": 4,
   "metadata": {},
   "outputs": [
    {
     "name": "stdout",
     "output_type": "stream",
     "text": [
      "     fun: 14.448082722964248\n",
      "     jac: array([0., 0.])\n",
      " message: 'Optimization terminated successfully'\n",
      "    nfev: 17\n",
      "     nit: 5\n",
      "    njev: 5\n",
      "  status: 0\n",
      " success: True\n",
      "       x: array([1.48513572, 0.40327444])\n"
     ]
    }
   ],
   "source": [
    "A = np.array([[5, 2],\n",
    "              [4, 3],\n",
    "              [6, 7],\n",
    "              [3, 7]])\n",
    "v = np.array([9, 9, 9, 9])\n",
    "\n",
    "def objective(arr):\n",
    "    x1 = arr[0]\n",
    "    x2 = arr[1]\n",
    "    return (5*x1+2*x2-9)**2 + (4*x1+3*x2-9)**2 + (6*x1+7*x2-9)**2 + (3*x1+7*x2-9)**2\n",
    "\n",
    "def constraint(arr):\n",
    "    x1 = arr[0]\n",
    "    x2 = arr[1]\n",
    "    return 2 - x1 - x2\n",
    "\n",
    "x0 = [1, 1]\n",
    "b = (0, 2)\n",
    "bnds = (b, b)\n",
    "cons = [{'type':'ineq', 'fun':constraint}]\n",
    "sol = minimize(objective, x0, method='SLSQP', bounds=bnds, constraints=cons)\n",
    "print(sol)"
   ]
  },
  {
   "cell_type": "markdown",
   "metadata": {},
   "source": [
    "# WORKER-ASSIGNMENT PROBLEM"
   ]
  },
  {
   "cell_type": "code",
   "execution_count": 5,
   "metadata": {},
   "outputs": [
    {
     "name": "stdout",
     "output_type": "stream",
     "text": [
      "[0 1 2 3] [3 1 2 0]\n",
      "24\n"
     ]
    }
   ],
   "source": [
    "A = np.array([[5, 6, 1, 6],\n",
    "              [4, 5, 0, 1],\n",
    "              [1, 2, 6, 8],\n",
    "              [7, 2, 1, 1]])\n",
    "row_ind, col_ind = scipy.optimize.linear_sum_assignment(-A) # we are trying to maximize, hence the minus sign\n",
    "print(row_ind, col_ind)\n",
    "print(A[row_ind, col_ind].sum())"
   ]
  },
  {
   "cell_type": "markdown",
   "metadata": {},
   "source": [
    "# DIET PROBLEM"
   ]
  },
  {
   "cell_type": "code",
   "execution_count": 6,
   "metadata": {},
   "outputs": [
    {
     "name": "stdout",
     "output_type": "stream",
     "text": [
      "     fun: 66.66666666674385\n",
      "     jac: array([ 5.,  7., 14.])\n",
      " message: 'Optimization terminated successfully'\n",
      "    nfev: 16\n",
      "     nit: 4\n",
      "    njev: 4\n",
      "  status: 0\n",
      " success: True\n",
      "       x: array([13.33333333,  0.        ,  0.        ])\n"
     ]
    }
   ],
   "source": [
    "def optimize(arr):\n",
    "    x1 = arr[0]\n",
    "    x2 = arr[1]\n",
    "    x3 = arr[2]\n",
    "    return 5*x1 + 7*x2 + 14*x3\n",
    "\n",
    "def constraint1(arr): # 16x[1] + 5x[2] + 12[x3] >= 100\n",
    "    return 16*arr[0] + 5*arr[1] + 12*arr[2] - 100\n",
    "\n",
    "def constraint2(arr): # 150x[1] + 100x[2] + 40x[3] >= 2000\n",
    "    return 150*arr[0] + 100*arr[1] + 40*arr[2] - 2000\n",
    "\n",
    "def constraint3(arr): # 150x[1] + 100x[2] + 40x[3] <= 2500\n",
    "    return 2500 - (150*arr[0] + 100*arr[1] + 40*arr[2])\n",
    "\n",
    "\n",
    "x0 = [5, 5, 20]\n",
    "b = (0, np.inf)\n",
    "bnds = (b, b, b)\n",
    "con1 = {'type':'ineq', 'fun':constraint1}\n",
    "con2 = {'type':'ineq', 'fun':constraint2}\n",
    "con3 = {'type':'ineq', 'fun':constraint3}\n",
    "cons = [con1, con2, con3]\n",
    "sol = minimize(optimize, x0, constraints=cons, bounds=bnds)\n",
    "print(sol)\n"
   ]
  },
  {
   "cell_type": "markdown",
   "metadata": {},
   "source": [
    "# DYNAMIC PROGRAMMING"
   ]
  },
  {
   "cell_type": "code",
   "execution_count": 9,
   "metadata": {},
   "outputs": [
    {
     "name": "stdout",
     "output_type": "stream",
     "text": [
      "Sequence [0, 5, 7, 9, 12, 17, 19, 23, 25, 30, 34, 39, 41, 43, 46, 48, 51, 56, 59, 64, 69, 74, 77, 79, 84, 87, 90, 94, 97, 100]\n",
      "No. of hotels: 28\n",
      "Shortest path: [0, 9, 19, 30, 39, 48, 59, 69, 79, 90, 100]\n"
     ]
    }
   ],
   "source": [
    "def solve_DP(arr, M):\n",
    "    min_penalty = [0 for e in arr]\n",
    "    previous = [0 for e in arr]\n",
    "    for j in range(1, len(arr)):\n",
    "#         list of possible c_ij = {fi + cij}\n",
    "        min_args = [min_penalty[i] + (M - (arr[j] - arr[i]))**2 for i in range(0, j)]\n",
    "#         select the lowest penalty to be fj\n",
    "        min_penalty[j] = min(min_args)\n",
    "        previous[j] = min_args.index(min(min_args))\n",
    "    return previous\n",
    "\n",
    "\n",
    "def shortest_path(arr, prev):\n",
    "    sol = [arr[-1]]\n",
    "    current = prev[-1]\n",
    "    while current != 0:\n",
    "        sol.insert(0, arr[current])\n",
    "        current = prev[current]\n",
    "    sol.insert(0, 0)\n",
    "    return sol\n",
    "\n",
    "\n",
    "M = 10\n",
    "\n",
    "diffs = [random.randint(2, 5) for i in range(100)]\n",
    "arr = np.cumsum(np.array(diffs))\n",
    "arr = arr - arr[0]\n",
    "arr = [i for i in arr if i < 100]\n",
    "arr.append(100)\n",
    "print('Sequence', arr)\n",
    "print(f\"No. of hotels: {len(arr)-2}\")\n",
    "prev = solve_DP(arr, M)\n",
    "print(f\"Shortest path: {shortest_path(arr, prev)}\")"
   ]
  },
  {
   "cell_type": "markdown",
   "metadata": {},
   "source": [
    "# MAGNET PROBELM"
   ]
  },
  {
   "cell_type": "code",
   "execution_count": 111,
   "metadata": {},
   "outputs": [
    {
     "data": {
      "image/png": "[encoded data removed]",
      "text/plain": [
       "<Figure size 360x288 with 1 Axes>"
      ]
     },
     "metadata": {
      "needs_background": "light"
     },
     "output_type": "display_data"
    }
   ],
   "source": [
    "num_magnets = 2**8\n",
    "\n",
    "def propse_new_state(x, W, energy):\n",
    "    random_node = np.random.choice( # returns an array sampled from the indices of x (ie. a=len(x))\n",
    "        a=len(x), size=np.random.randint(1, 5), replace=False \n",
    "    ) # size is between & inclusive of 1 and 4 (don't change x too drastically)\n",
    "    x_new = x.copy()\n",
    "    x_new[random_node] = -x_new[random_node]\n",
    "    new_energy = x_new.T @ W @ x_new\n",
    "    return x_new, W, new_energy\n",
    "\n",
    "\n",
    "def init_problem(random_state):\n",
    "    np.random.seed(random_state)\n",
    "    x = np.random.randint(0, 2, num_magnets) * 2 - 1 # generates a random x\n",
    "    W = np.random.randn(num_magnets, num_magnets) # generates matrix W sampled from standard normal distribution \n",
    "#     W = W.T @ W # not sure why he did this\n",
    "    W = W - np.diag(np.diag(W)) # set diagonal to 0\n",
    "#     assert np.allclose(W, W.T, atol=1e-9)\n",
    "    energy = x.T @ W @ x\n",
    "    return x, W, energy\n",
    "\n",
    "\n",
    "num_iters = 100\n",
    "algo_runs = 5\n",
    "\n",
    "# Greedy algorithm\n",
    "data = collections.defaultdict(list)\n",
    "\n",
    "for algo_run in range(algo_runs):\n",
    "    x, W, energy = init_problem(algo_run)\n",
    "    data[0].append(energy)\n",
    "    for i in range(1, num_iters+1):\n",
    "        new_x, W, new_energy = propse_new_state(x, W, energy)\n",
    "        if new_energy < energy:\n",
    "            x = new_x\n",
    "            energy = new_energy\n",
    "        data[i].append(energy)\n",
    "\n",
    "        \n",
    "fig, ax = plt.subplots(figsize=(5, 4))\n",
    "ax.plot(\n",
    "    list(data.keys()), # pass in a list of x-values\n",
    "    [np.mean(v) for v in data.values()], # pass in a list of y-values\n",
    "    label=\"Greedy algorithm\",\n",
    "    lw=2,\n",
    ")\n",
    "\n",
    "# Simulated annealing\n",
    "data = collections.defaultdict(list)\n",
    "\n",
    "for algo_run in range(algo_runs):\n",
    "    x, W, energy = init_problem(algo_run)\n",
    "    data[0].append(energy)\n",
    "    for i in range(1, num_iters+1):\n",
    "        new_x, W, new_energy = propse_new_state(x, W, energy)\n",
    "\n",
    "        # If new solution is worse, accept sometimes\n",
    "        if new_energy >= energy:\n",
    "            k = 0.02\n",
    "            if np.random.rand() < np.exp(-round(i / 10) * i * k):\n",
    "                x = new_x\n",
    "                energy = new_energy\n",
    "\n",
    "        # If new solution is better, always accept\n",
    "        else:\n",
    "            x = new_x\n",
    "            energy = new_energy\n",
    "\n",
    "        data[i].append(energy)\n",
    "        \n",
    "ax.plot(\n",
    "    list(data.keys()),\n",
    "    [np.mean(v) for v in data.values()],\n",
    "    label=\"Simulated annealing\",\n",
    "    lw=2,\n",
    ")\n",
    "ax.grid(True, zorder=-15, ls=\"--\", alpha=0.5)\n",
    "ax.legend(fontsize=16)\n",
    "# ax.axes.get_yaxis().set_ticklabels([])\n",
    "\n",
    "# ax = ax.twinx()\n",
    "\n",
    "# ax.plot(\n",
    "#     np.arange(num_iters),\n",
    "#     np.exp(-np.round((np.arange(num_iters) / 10)) * 10 * k),\n",
    "#     \"--\",\n",
    "#     color=\"red\",\n",
    "# )\n",
    "# ax.set_yticks([])\n",
    "plt.title(\"100 iterations of simulated annealing\", fontsize=16)\n",
    "plt.tight_layout()\n",
    "# plt.savefig('simulated_annealing.pdf')\n",
    "plt.show()"
   ]
  },
  {
   "cell_type": "markdown",
   "metadata": {},
   "source": [
    "# BAYESIAN OPTIMIZATION"
   ]
  },
  {
   "cell_type": "code",
   "execution_count": 138,
   "metadata": {},
   "outputs": [
    {
     "name": "stdout",
     "output_type": "stream",
     "text": [
      "|   iter    |  target   |     x     |     y     |\n",
      "-------------------------------------------------\n",
      "| \u001b[0m 1       \u001b[0m | \u001b[0m 0.1071  \u001b[0m | \u001b[0m-0.2509  \u001b[0m | \u001b[0m 0.9014  \u001b[0m |\n",
      "| \u001b[95m 2       \u001b[0m | \u001b[95m 0.7202  \u001b[0m | \u001b[95m 0.464   \u001b[0m | \u001b[95m 0.1973  \u001b[0m |\n",
      "| \u001b[0m 3       \u001b[0m | \u001b[0m 0.351   \u001b[0m | \u001b[0m-0.688   \u001b[0m | \u001b[0m-0.688   \u001b[0m |\n",
      "| \u001b[0m 4       \u001b[0m | \u001b[0m 0.355   \u001b[0m | \u001b[0m-0.8838  \u001b[0m | \u001b[0m 0.7324  \u001b[0m |\n",
      "| \u001b[95m 5       \u001b[0m | \u001b[95m 0.7355  \u001b[0m | \u001b[95m 0.2022  \u001b[0m | \u001b[95m 0.4161  \u001b[0m |\n",
      "| \u001b[95m 6       \u001b[0m | \u001b[95m 0.7819  \u001b[0m | \u001b[95m 0.0806  \u001b[0m | \u001b[95m 0.01099 \u001b[0m |\n",
      "| \u001b[0m 7       \u001b[0m | \u001b[0m 0.1856  \u001b[0m | \u001b[0m 0.4561  \u001b[0m | \u001b[0m-0.528   \u001b[0m |\n",
      "| \u001b[95m 8       \u001b[0m | \u001b[95m 0.8816  \u001b[0m | \u001b[95m 0.7147  \u001b[0m | \u001b[95m 0.6494  \u001b[0m |\n",
      "| \u001b[0m 9       \u001b[0m | \u001b[0m 0.8745  \u001b[0m | \u001b[0m 0.7302  \u001b[0m | \u001b[0m 0.6298  \u001b[0m |\n",
      "| \u001b[0m 10      \u001b[0m | \u001b[0m 0.8106  \u001b[0m | \u001b[0m 0.9916  \u001b[0m | \u001b[0m 0.9997  \u001b[0m |\n",
      "| \u001b[0m 11      \u001b[0m | \u001b[0m 0.5971  \u001b[0m | \u001b[0m 0.5566  \u001b[0m | \u001b[0m 1.0     \u001b[0m |\n",
      "| \u001b[0m 12      \u001b[0m | \u001b[0m 0.6854  \u001b[0m | \u001b[0m-0.4121  \u001b[0m | \u001b[0m 0.03352 \u001b[0m |\n",
      "| \u001b[0m 13      \u001b[0m | \u001b[0m 0.06673 \u001b[0m | \u001b[0m-1.0     \u001b[0m | \u001b[0m-0.007312\u001b[0m |\n",
      "| \u001b[0m 14      \u001b[0m | \u001b[0m 0.1865  \u001b[0m | \u001b[0m 1.0     \u001b[0m | \u001b[0m 0.09963 \u001b[0m |\n",
      "| \u001b[95m 15      \u001b[0m | \u001b[95m 0.974   \u001b[0m | \u001b[95m-0.1884  \u001b[0m | \u001b[95m-0.2999  \u001b[0m |\n",
      "| \u001b[0m 16      \u001b[0m | \u001b[0m 0.2144  \u001b[0m | \u001b[0m 0.2081  \u001b[0m | \u001b[0m-0.6966  \u001b[0m |\n",
      "| \u001b[0m 17      \u001b[0m | \u001b[0m 0.6934  \u001b[0m | \u001b[0m 1.0     \u001b[0m | \u001b[0m-1.0     \u001b[0m |\n",
      "| \u001b[95m 18      \u001b[0m | \u001b[95m 1.004   \u001b[0m | \u001b[95m-0.1743  \u001b[0m | \u001b[95m-0.1195  \u001b[0m |\n",
      "| \u001b[0m 19      \u001b[0m | \u001b[0m 0.9298  \u001b[0m | \u001b[0m-0.3411  \u001b[0m | \u001b[0m-0.2417  \u001b[0m |\n",
      "| \u001b[0m 20      \u001b[0m | \u001b[0m 0.7098  \u001b[0m | \u001b[0m 0.9971  \u001b[0m | \u001b[0m 0.7608  \u001b[0m |\n",
      "| \u001b[0m 21      \u001b[0m | \u001b[0m 0.982   \u001b[0m | \u001b[0m 0.5027  \u001b[0m | \u001b[0m 0.5264  \u001b[0m |\n",
      "| \u001b[0m 22      \u001b[0m | \u001b[0m 0.977   \u001b[0m | \u001b[0m-0.07985 \u001b[0m | \u001b[0m-0.2009  \u001b[0m |\n",
      "| \u001b[0m 23      \u001b[0m | \u001b[0m 0.8411  \u001b[0m | \u001b[0m 0.6384  \u001b[0m | \u001b[0m 0.3616  \u001b[0m |\n",
      "| \u001b[95m 24      \u001b[0m | \u001b[95m 1.019   \u001b[0m | \u001b[95m-0.2035  \u001b[0m | \u001b[95m-0.1983  \u001b[0m |\n",
      "| \u001b[0m 25      \u001b[0m | \u001b[0m 1.018   \u001b[0m | \u001b[0m-0.1623  \u001b[0m | \u001b[0m-0.1859  \u001b[0m |\n",
      "=================================================\n"
     ]
    },
    {
     "data": {
      "image/png": "[encoded data removed]",
      "text/plain": [
       "<Figure size 288x288 with 1 Axes>"
      ]
     },
     "metadata": {},
     "output_type": "display_data"
    }
   ],
   "source": [
    "def black_box_function(x, y):\n",
    "    z = 0.9*np.exp(-((x - 0.5) / 0.5)**2 - ((y - 0.5) / 0.5)**2)\n",
    "    z = z + np.exp(-((x + 0.2) / 0.5)**2 - ((y + 0.2) / 0.5)**2) # 1/ (1 + (y + 0.3)**2 + (x + 0.3)**2)\n",
    "    z = z + np.log1p(x*y*x*y)\n",
    "    return z\n",
    "\n",
    "\n",
    "from bayes_opt import BayesianOptimization\n",
    "\n",
    "# Bounded region of parameter space\n",
    "pbounds = {\"x\": (-1, 1), \"y\": (-1, 1)}\n",
    "\n",
    "optimizer = BayesianOptimization(\n",
    "    f=black_box_function,\n",
    "    pbounds=pbounds,\n",
    "    verbose=2,  # verbose = 1 prints only when a maximum is observed, verbose = 0 is silent\n",
    "    random_state=42,\n",
    ")\n",
    "\n",
    "optimizer.maximize(init_points=5, n_iter=20)\n",
    "N = 32\n",
    "n = 2 ** 7\n",
    "x = np.linspace(-1, 1, n)\n",
    "y = np.linspace(-1, 1, n)\n",
    "x, y = np.meshgrid(x, y)\n",
    "z = black_box_function(x, y)\n",
    "\n",
    "fig = plt.figure(figsize=(4, 4))\n",
    "ax = fig.add_subplot(1, 1, 1)\n",
    "ax.set_title(\"Bayesian Optimization\", fontsize=15)\n",
    "# ax.contour(x, y, z, N, linewidths=0.8, colors='k')\n",
    "ax.contourf(x, y, z, N, cmap=\"RdBu_r\", vmin=-0.2, vmax=1.2)\n",
    "plt.xticks([])\n",
    "plt.yticks([])\n",
    "\n",
    "\n",
    "# Plot points\n",
    "\n",
    "for i, res in enumerate(optimizer.res):\n",
    "    plt.scatter(res[\"params\"][\"x\"], res[\"params\"][\"y\"], color=\"k\", s=10)\n",
    "    plt.text(\n",
    "        res[\"params\"][\"x\"] + 0.03 + 0.03 * len(str(i)),\n",
    "        res[\"params\"][\"y\"] + 0.01,\n",
    "        str(i+1),\n",
    "        size=10,\n",
    "        rotation=0.0,\n",
    "        ha=\"center\",\n",
    "        va=\"center\",\n",
    "    )\n",
    "\n",
    "ax.axis(\"off\")\n",
    "plt.tight_layout()\n",
    "plt.show()\n"
   ]
  },
  {
   "cell_type": "code",
   "execution_count": null,
   "metadata": {},
   "outputs": [],
   "source": []
  }
 ],
 "metadata": {
  "kernelspec": {
   "display_name": "Python 3",
   "language": "python",
   "name": "python3"
  },
  "language_info": {
   "codemirror_mode": {
    "name": "ipython",
    "version": 3
   },
   "file_extension": ".py",
   "mimetype": "text/x-python",
   "name": "python",
   "nbconvert_exporter": "python",
   "pygments_lexer": "ipython3",
   "version": "3.7.3"
  }
 },
 "nbformat": 4,
 "nbformat_minor": 4
}
