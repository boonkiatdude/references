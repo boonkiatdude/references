{
 "cells": [
  {
   "cell_type": "code",
   "execution_count": 1,
   "metadata": {},
   "outputs": [],
   "source": [
    "import numpy as np\n",
    "from pulp import *\n",
    "from scipy.optimize import minimize\n",
    "import pandas as pd\n",
    "np.set_printoptions(edgeitems=100, linewidth=100000)\n"
   ]
  },
  {
   "cell_type": "code",
   "execution_count": 2,
   "metadata": {},
   "outputs": [
    {
     "name": "stdout",
     "output_type": "stream",
     "text": [
      "Status Optimal\n",
      "Objective 0.33333333\n",
      "v = 0.33333333\n",
      "x1 = 0.66666667\n",
      "x2 = 0.33333333\n",
      "Mixed Strategy\n"
     ]
    }
   ],
   "source": [
    "# Game Theory\n",
    "\n",
    "model = LpProblem('Ex', LpMaximize) # we will maximize the floor\n",
    "A = np.array([[0.5, 0],\n",
    "              [0, 1]])\n",
    "x = {i: LpVariable(f\"x{i}\", lowBound=0, upBound=1) for i in range(1, len(A)+1)}\n",
    "v = LpVariable('v')\n",
    "\n",
    "arr = []\n",
    "for i in x.items():\n",
    "    arr.append(i[1])\n",
    "arr = np.array(arr)\n",
    "t = A.T @ arr\n",
    "\n",
    "model += v, 'Objective'\n",
    "model += lpSum(x) == 1\n",
    "for i in range(len(A)):\n",
    "    model += v <= t[i] # ensures that v is the floor\n",
    "\n",
    "model.solve()\n",
    "\n",
    "print('Status', LpStatus[model.status])\n",
    "print('Objective', model.objective.value())\n",
    "for v in model.variables():\n",
    "    print(v, '=', v.varValue)\n",
    "if np.count_nonzero(np.array([model.variables()[i].varValue for i in range(1, len(model.variables()))])) > 1:\n",
    "    print('Mixed Strategy')\n",
    "else:\n",
    "    print('Saddle Point')\n"
   ]
  },
  {
   "cell_type": "code",
   "execution_count": 3,
   "metadata": {},
   "outputs": [
    {
     "name": "stdout",
     "output_type": "stream",
     "text": [
      "Status Optimal\n",
      "Objective 2.0\n",
      "Saddle Point\n",
      "v = 2.0\n",
      "x1 = 0.0\n",
      "x2 = 0.0\n",
      "x3 = 1.0\n",
      "x4 = 0.0\n"
     ]
    }
   ],
   "source": [
    "# Game Theory - Row Player POV\n",
    "\n",
    "model = LpProblem('Ex', LpMaximize) # we will maximize the floor\n",
    "A = np.array([[12, -1, 1, 0],\n",
    "              [5, 1, 7, -20],\n",
    "              [3, 2, 4, 3],\n",
    "              [-16, 0, 0, 16]])\n",
    "x = {i: LpVariable(f\"x{i}\", lowBound=0, upBound=1) for i in range(1, len(A)+1)}\n",
    "v = LpVariable('v')\n",
    "\n",
    "arr = []\n",
    "for i in x.items():\n",
    "    arr.append(i[1])\n",
    "arr = np.array(arr)\n",
    "t = A.T @ arr\n",
    "\n",
    "model += v, 'Objective'\n",
    "model += lpSum(x) == 1\n",
    "for i in range(len(A)):\n",
    "    model += v <= t[i] # ensures that v is the floor\n",
    "\n",
    "model.solve()\n",
    "\n",
    "print('Status', LpStatus[model.status])\n",
    "print('Objective', model.objective.value())\n",
    "if np.count_nonzero(np.array([model.variables()[i].varValue for i in range(1, len(model.variables()))])) > 1:\n",
    "    print('Mixed Strategy')\n",
    "else:\n",
    "    print('Saddle Point')\n",
    "for v in model.variables():\n",
    "    print(v, '=', v.varValue)\n",
    "\n"
   ]
  },
  {
   "cell_type": "code",
   "execution_count": 4,
   "metadata": {},
   "outputs": [
    {
     "name": "stdout",
     "output_type": "stream",
     "text": [
      "Status Optimal\n",
      "Objective 2.0\n",
      "Saddle Point\n",
      "v = 2.0\n",
      "x1 = 0.0\n",
      "x2 = 1.0\n",
      "x3 = 0.0\n",
      "x4 = 0.0\n"
     ]
    }
   ],
   "source": [
    "# Game Theory - Column Player POV\n",
    "\n",
    "model = LpProblem('Ex', LpMinimize) # we will maximize the floor\n",
    "A = np.array([[12, -1, 1, 0],\n",
    "              [5, 1, 7, -20],\n",
    "              [3, 2, 4, 3],\n",
    "              [-16, 0, 0, 16]])\n",
    "x = {i: LpVariable(f\"x{i}\", lowBound=0, upBound=1) for i in range(1, len(A)+1)}\n",
    "v = LpVariable('v')\n",
    "\n",
    "arr = []\n",
    "for i in x.items():\n",
    "    arr.append(i[1])\n",
    "arr = np.array(arr)\n",
    "t = A @ arr\n",
    "\n",
    "model += v, 'Objective'\n",
    "model += lpSum(x) == 1\n",
    "for i in range(len(A)):\n",
    "    model += v >= t[i] # ensures that v is the floor\n",
    "\n",
    "model.solve()\n",
    "\n",
    "print('Status', LpStatus[model.status])\n",
    "print('Objective', model.objective.value())\n",
    "if np.count_nonzero(np.array([model.variables()[i].varValue for i in range(1, len(model.variables()))])) > 1:\n",
    "    print('Mixed Strategy')\n",
    "else:\n",
    "    print('Saddle Point')\n",
    "for v in model.variables():\n",
    "    print(v, '=', v.varValue)\n",
    "\n"
   ]
  },
  {
   "cell_type": "code",
   "execution_count": 6,
   "metadata": {},
   "outputs": [
    {
     "name": "stdout",
     "output_type": "stream",
     "text": [
      "Status Optimal\n",
      "Objective 1.0\n",
      "Mixed Strategy\n",
      "v = 1.0\n",
      "x1 = 0.33333333\n",
      "x2 = 0.33333333\n",
      "x3 = 0.33333333\n"
     ]
    }
   ],
   "source": [
    "# Game Theory\n",
    "\n",
    "model = LpProblem('Ex', LpMaximize) # we will maximize the floor\n",
    "A = np.array([[1, 0, 2],\n",
    "              [2, 1, 0],\n",
    "              [0, 2, 1]])\n",
    "x = {i: LpVariable(f\"x{i}\", lowBound=0, upBound=1) for i in range(1, len(A)+1)}\n",
    "v = LpVariable('v')\n",
    "\n",
    "arr = []\n",
    "for i in x.items():\n",
    "    arr.append(i[1])\n",
    "arr = np.array(arr)\n",
    "t = A.T @ arr\n",
    "\n",
    "model += v, 'Objective'\n",
    "model += lpSum(x) == 1\n",
    "for i in range(len(A)):\n",
    "    model += v <= t[i] # ensures that v is the floor\n",
    "\n",
    "model.solve()\n",
    "\n",
    "print('Status', LpStatus[model.status])\n",
    "print('Objective', model.objective.value())\n",
    "if np.count_nonzero(np.array([model.variables()[i].varValue for i in range(1, len(model.variables()))])) > 1:\n",
    "    print('Mixed Strategy')\n",
    "else:\n",
    "    print('Saddle Point')\n",
    "for v in model.variables():\n",
    "    print(v, '=', v.varValue)\n",
    "    "
   ]
  },
  {
   "cell_type": "code",
   "execution_count": null,
   "metadata": {},
   "outputs": [],
   "source": []
  }
 ],
 "metadata": {
  "kernelspec": {
   "display_name": "Python 3",
   "language": "python",
   "name": "python3"
  },
  "language_info": {
   "codemirror_mode": {
    "name": "ipython",
    "version": 3
   },
   "file_extension": ".py",
   "mimetype": "text/x-python",
   "name": "python",
   "nbconvert_exporter": "python",
   "pygments_lexer": "ipython3",
   "version": "3.7.4"
  }
 },
 "nbformat": 4,
 "nbformat_minor": 4
}
