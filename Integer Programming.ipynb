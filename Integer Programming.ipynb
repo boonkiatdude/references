{
 "cells": [
  {
   "cell_type": "code",
   "execution_count": 3,
   "metadata": {},
   "outputs": [],
   "source": [
    "import numpy as np\n",
    "from pulp import *\n",
    "from scipy.optimize import minimize\n",
    "import pandas as pd\n",
    "np.set_printoptions(edgeitems=100, linewidth=100000)\n"
   ]
  },
  {
   "cell_type": "code",
   "execution_count": 8,
   "metadata": {},
   "outputs": [
    {
     "name": "stdout",
     "output_type": "stream",
     "text": [
      "Status Optimal\n",
      "Objective 16.0\n",
      "x1 = 4.0\n",
      "x2 = 0.0\n"
     ]
    }
   ],
   "source": [
    "model = LpProblem('Integer_Programming_Example 1', LpMaximize)\n",
    "x = {i: LpVariable(f\"x{i}\", lowBound=0, cat='Integer') for i in (1, 2)}\n",
    "model += 4*x[1] + 7*x[2], 'z'\n",
    "\n",
    "model += 3*x[1] + 5*x[2] <= 12\n",
    "\n",
    "model.solve()\n",
    "\n",
    "print('Status', LpStatus[model.status])\n",
    "print('Objective', model.objective.value())\n",
    "for v in model.variables():\n",
    "    print(v, '=', v.varValue)\n",
    "    "
   ]
  },
  {
   "cell_type": "code",
   "execution_count": 10,
   "metadata": {},
   "outputs": [
    {
     "name": "stdout",
     "output_type": "stream",
     "text": [
      "Status Optimal\n",
      "Objective 33.0\n",
      "x1 = 0.0\n",
      "x2 = 3.0\n"
     ]
    }
   ],
   "source": [
    "model = LpProblem('Integer_Programming_Example 2', LpMaximize)\n",
    "x = {i: LpVariable(f\"x{i}\", lowBound=0, cat='Integer') for i in (1, 2)}\n",
    "model += 21*x[1] + 11*x[2], 'z'\n",
    "\n",
    "model += 7*x[1] + 4*x[2] <= 13\n",
    "\n",
    "model.solve()\n",
    "\n",
    "print('Status', LpStatus[model.status])\n",
    "print('Objective', model.objective.value())\n",
    "for v in model.variables():\n",
    "    print(v, '=', v.varValue)\n",
    "    "
   ]
  },
  {
   "cell_type": "code",
   "execution_count": 13,
   "metadata": {},
   "outputs": [
    {
     "name": "stdout",
     "output_type": "stream",
     "text": [
      "Status Optimal\n",
      "Objective 38.0\n",
      "x1 = 1.0\n",
      "x2 = 1.0\n",
      "x3 = 0.0\n",
      "x4 = 0.0\n"
     ]
    }
   ],
   "source": [
    "model = LpProblem('Capital_Budgeting_Example', LpMaximize)\n",
    "x = {i: LpVariable(f\"x{i}\", lowBound=0, cat='Binary') for i in range(1, 5)}\n",
    "model += 16*x[1] + 22*x[2] + 12*x[3] + 8*x[4], 'z'\n",
    "\n",
    "model += 5*x[1] + 7*x[2] + 4*x[3] + 3*x[4] <= 14\n",
    "model += lpSum(x) <= 3, 'can invest in at most 3 investments'\n",
    "model += x[2] <= x[1], 'if you invest in x[2], you must also invest in x[1]'\n",
    "model += x[2] + x[4] <= 1, 'if you invest in x[2], you cannot invest in x[4]'\n",
    "\n",
    "model.solve()\n",
    "\n",
    "print('Status', LpStatus[model.status])\n",
    "print('Objective', model.objective.value())\n",
    "for v in model.variables():\n",
    "    print(v, '=', v.varValue)\n"
   ]
  },
  {
   "cell_type": "code",
   "execution_count": 17,
   "metadata": {},
   "outputs": [
    {
     "name": "stdout",
     "output_type": "stream",
     "text": [
      "Status Optimal\n",
      "Objective 75.0\n",
      "x1 = 0.0\n",
      "x2 = 0.0\n",
      "x3 = 25.0\n",
      "y1 = 0.0\n",
      "y2 = 0.0\n",
      "y3 = 1.0\n"
     ]
    }
   ],
   "source": [
    "model = LpProblem('Fixed_Charge_Problem', LpMaximize)\n",
    "x = {i: LpVariable(f\"x{i}\", lowBound=0, cat='Integer') for i in range(1, 4)}\n",
    "y = {i: LpVariable(f\"y{i}\", cat='Binary') for i in range(1, 4)}\n",
    "model += (12*x[1]+8*x[2]+15*x[3]) - (6*x[1]+4*x[2]+8*x[3]) - (200*y[1]+150*y[2]+100*y[3])\n",
    "\n",
    "M = 1000\n",
    "model += 3*x[1] + 2*x[2] + 6*x[3] <= 150, 'Labour constraint'\n",
    "model += 4*x[1] + 3*x[2] + 4*x[3] <= 160, 'Cloth constraint'\n",
    "model += x[1] <= y[1] * M\n",
    "model += x[2] <= y[2] * M\n",
    "model += x[3] <= y[3] * M\n",
    "\n",
    "\n",
    "model.solve()\n",
    "print('Status', LpStatus[model.status])\n",
    "print('Objective', model.objective.value())\n",
    "for v in model.variables():\n",
    "    print(v, '=', v.varValue)\n"
   ]
  },
  {
   "cell_type": "code",
   "execution_count": 46,
   "metadata": {},
   "outputs": [
    {
     "name": "stdout",
     "output_type": "stream",
     "text": [
      "Status Optimal\n",
      "Objective 242000.0\n",
      "x11 = 1.0\n",
      "x12 = 0.0\n",
      "x13 = 0.0\n",
      "x14 = 0.0\n",
      "x21 = 0.0\n",
      "x22 = 0.0\n",
      "x23 = 1.0\n",
      "x24 = 0.0\n",
      "x31 = 0.0\n",
      "x32 = 0.0\n",
      "x33 = 1.0\n",
      "x34 = 0.0\n",
      "x41 = 0.0\n",
      "x42 = 0.0\n",
      "x43 = 1.0\n",
      "x44 = 0.0\n",
      "y1 = 1.0\n",
      "y2 = 0.0\n",
      "y3 = 1.0\n",
      "y4 = 0.0\n"
     ]
    }
   ],
   "source": [
    "model = LpProblem('Nickles_Example', LpMinimize)\n",
    "y = {i: LpVariable(f\"y{i}\", cat='Binary') for i in range(1, 5)}\n",
    "x = {}\n",
    "A = np.array([[2, 6, 8, 8],\n",
    "              [6, 2, 5, 5],\n",
    "              [8, 5, 2, 5],\n",
    "              [8, 5, 5, 2]])\n",
    "for i in range(len(A)):\n",
    "    for j in range(len(A)):\n",
    "        x[int(f\"{i+1}{j+1}\")] = LpVariable(f\"x{i+1}{j+1}\", cat='Binary')\n",
    "\n",
    "model += lpSum(y)*50000 + 0.2*(\n",
    "    70000 * (2*x[11] + 6*x[12] + 8*x[13] + 8*x[14]) +\n",
    "    50000 * (6*x[21] + 2*x[22] + 5*x[23] + 5*x[24]) +\n",
    "    60000 * (8*x[31] + 5*x[32] + 2*x[33] + 5*x[34]) +\n",
    "    40000 * (8*x[41] + 5*x[42] + 5*x[43] + 2*x[44])\n",
    ")\n",
    "\n",
    "M = 100\n",
    "model += x[11] + x[12] + x[13] + x[14] == 1\n",
    "model += x[21] + x[22] + x[23] + x[24] == 1\n",
    "model += x[31] + x[32] + x[33] + x[34] == 1\n",
    "model += x[41] + x[42] + x[43] + x[44] == 1\n",
    "model += y[1]*M >= x[11] + x[21] + x[31] + x[41]\n",
    "model += y[2]*M >= x[12] + x[22] + x[32] + x[42]\n",
    "model += y[3]*M >= x[13] + x[23] + x[33] + x[43]\n",
    "model += y[4]*M >= x[14] + x[24] + x[34] + x[44]\n",
    "\n",
    "model.solve()\n",
    "\n",
    "print('Status', LpStatus[model.status])\n",
    "print('Objective', model.objective.value())\n",
    "for v in model.variables():\n",
    "    print(v, '=', v.varValue)\n",
    "    "
   ]
  },
  {
   "cell_type": "code",
   "execution_count": 61,
   "metadata": {},
   "outputs": [
    {
     "name": "stdout",
     "output_type": "stream",
     "text": [
      "Status Optimal\n",
      "Objective 2.0\n",
      "y1 = 0.0\n",
      "y2 = 1.0\n",
      "y3 = 0.0\n",
      "y4 = 1.0\n",
      "y5 = 0.0\n",
      "y6 = 0.0\n"
     ]
    }
   ],
   "source": [
    "model = LpProblem('Kilroy_Example', LpMinimize)\n",
    "y = {i: LpVariable(f\"y{i}\", cat='Binary') for i in range(1, 7)}\n",
    "model += lpSum(y)\n",
    "\n",
    "model += y[1] + y[2] >= 1, 'only 2 can reach 1 in 15 mins'\n",
    "model += y[1] + y[2] + y[6] >= 1, 'only 1 & 6 can reach 2 in 15 mins'\n",
    "model += y[3] + y[4] >= 1, 'only 4 can reach 3 in 15 mins'\n",
    "model += y[3] + y[4] + y[5] >= 1, 'only 3 & 5 can reach 4 in 15 mins'\n",
    "model += y[4] + y[5] + y[6] >= 1, 'only 4 & 6 can reach 5 in 15 mins'\n",
    "model += y[2] + y[5] + y[6] >= 1, 'only 2 & 5 can reach 6 in 15 mins'\n",
    "\n",
    "model.solve()\n",
    "\n",
    "print('Status', LpStatus[model.status])\n",
    "print('Objective', model.objective.value())\n",
    "for v in model.variables():\n",
    "    print(v, '=', v.varValue)\n"
   ]
  },
  {
   "cell_type": "code",
   "execution_count": 68,
   "metadata": {},
   "outputs": [
    {
     "name": "stdout",
     "output_type": "stream",
     "text": [
      "Satus Optimal\n",
      "Objective 6000000.0\n",
      "x1 = 0.0\n",
      "x2 = 2000.0\n",
      "x3 = 0.0\n",
      "y1 = 0.0\n",
      "y2 = 1.0\n",
      "y3 = 0.0\n"
     ]
    }
   ],
   "source": [
    "model = LpProblem('Dorian_Example', LpMaximize)\n",
    "x = {i: LpVariable(f\"x{i}\", lowBound=0) for i in range(1, 4)}\n",
    "y = {i: LpVariable(f\"y{i}\", cat='Binary') for i in range(1, 4)}\n",
    "model += 2000*x[1] + 3000*x[2] + 4000*x[3], 'Objective'\n",
    "\n",
    "M = 10000\n",
    "model += 1.5*x[1] + 3*x[2] + 5*x[3] <= 6000, 'steel constraint'\n",
    "model += 30*x[1] + 25*x[2] + 40*x[3] <= 60000, 'labour constraint'\n",
    "model += x[1] >= 1000 * y[1], 'if you build compact cars, it has to be at least 1000'\n",
    "model += x[2] >= 1000 * y[2], \"\"\n",
    "model += x[3] >= 1000 * y[3], \"\"\n",
    "model += x[1] <= y[1] * M, 'if y[i] == 0, x[i] must be 0'\n",
    "model += x[2] <= y[2] * M\n",
    "model += x[3] <= y[3] * M\n",
    "\n",
    "model.solve()\n",
    "\n",
    "print('Satus', LpStatus[model.status])\n",
    "print('Objective', model.objective.value())\n",
    "for v in model.variables():\n",
    "    print(v, '=', v.varValue)"
   ]
  },
  {
   "cell_type": "code",
   "execution_count": 157,
   "metadata": {},
   "outputs": [
    {
     "name": "stdout",
     "output_type": "stream",
     "text": [
      "Status Optimal\n",
      "Objective 12500.0\n",
      "w = 1000.0\n",
      "x11 = 0.0\n",
      "x12 = 1500.0\n",
      "x21 = 0.0\n",
      "x22 = 1000.0\n",
      "y1 = 0.0\n",
      "y2 = 0.0\n",
      "y3 = 1.0\n",
      "z1 = 0.0\n",
      "z2 = 0.0\n",
      "z3 = 1.0\n",
      "z4 = 0.0\n"
     ]
    }
   ],
   "source": [
    "model = LpProblem('Euring_Example', LpMaximize)\n",
    "w = LpVariable('w', lowBound=0, upBound=1500)\n",
    "z = {i: LpVariable(f\"z{i}\", lowBound=0) for i in range(1, 5)}\n",
    "y = {i: LpVariable(f\"y{i}\", cat='Binary') for i in (1, 2, 3)}\n",
    "x = {} # amount of oil i to produce gas j\n",
    "for i in range(2):\n",
    "    for j in range(2):\n",
    "        x[int(f\"{i+1}{j+1}\")] = LpVariable(f\"x{i+1}{j+1}\", lowBound=0)\n",
    "\n",
    "model += x[11] >= 0.5 * (x[11] + x[21]), '50% oil 1'\n",
    "\n",
    "model += x[12] >= 0.6 * (x[12] + x[22]), '60% oil 1'\n",
    "\n",
    "model += x[11] + x[12] <= w + 500, 'oil 1 constraint'\n",
    "model += x[21] + x[22] <= 1000, 'oil 2 constraint'\n",
    "model += 0*z[1] + 500*z[2] + 1000*z[3] + 1500*z[4] == w\n",
    "model += z[1] <= y[1]\n",
    "model += z[2] <= y[1] + y[2]\n",
    "model += z[3] <= y[2] + y[3]\n",
    "model += z[4] <= y[3]\n",
    "model += lpSum(y) == 1\n",
    "model += lpSum(z) == 1\n",
    "\n",
    "lim = [0, 500, 1000]\n",
    "cost = [25, 20, 15]\n",
    "\n",
    "def cx(lim, cost, x):\n",
    "    lim.append(np.inf)\n",
    "    f = [0]\n",
    "    for i in range(len(cost)):\n",
    "        if i != 0:\n",
    "            f.append(sum(f) + cost[i-1]*(lim[i] - lim[i-1]))\n",
    "    for i in range(len(cost)):\n",
    "        if x >= lim[i] and x <= lim[i+1]:\n",
    "            return cost[i]*(x - lim[i]) + f[i]\n",
    "\n",
    "        \n",
    "model += 12*(x[11] + x[21]) + 14*(x[12] + x[22]) - \\\n",
    "(z[1]*cx(lim, cost, 0) + z[2]*cx(lim, cost, 500) + z[3]*cx(lim, cost, 1000) + z[4]*cx(lim, cost, 1500)), 'Objective'\n",
    "\n",
    "model.solve()\n",
    "print('Status', LpStatus[model.status])\n",
    "print('Objective', model.objective.value())\n",
    "for v in model.variables():\n",
    "    print(v, '=', v.varValue)"
   ]
  },
  {
   "cell_type": "code",
   "execution_count": 179,
   "metadata": {},
   "outputs": [
    {
     "name": "stdout",
     "output_type": "stream",
     "text": [
      "Status Optimal\n",
      "Objective 146.0\n",
      "x11 = 6.0\n",
      "x12 = 2.0\n",
      "x13 = 0.0\n",
      "x21 = 4.0\n",
      "x22 = 8.0\n",
      "x23 = 0.0\n"
     ]
    }
   ],
   "source": [
    "model = LpProblem('Dorian_Example', LpMaximize)\n",
    "x = {}\n",
    "for i in range(2):\n",
    "    for j in range(3):\n",
    "        x[int(f\"{i+1}{j+1}\")] = LpVariable(f\"x{i+1}{j+1}\", cat='Integer', lowBound=0)\n",
    "model += 10*x[11] + 3*x[12] + 2.5*x[13] + 8*x[21] + 6*x[22] + 2*x[23], 'Objective'\n",
    "\n",
    "model += x[11] <= 6\n",
    "model += x[12] <= 4\n",
    "model += x[13] <= 5\n",
    "model += x[21] <= 4\n",
    "model += x[22] <= 8\n",
    "model += x[23] <= 3\n",
    "model += lpSum(x) <= 20\n",
    "\n",
    "model.solve()\n",
    "\n",
    "print('Status', LpStatus[model.status])\n",
    "print('Objective', model.objective.value())\n",
    "for v in model.variables():\n",
    "    print(v, '=', v.varValue)"
   ]
  },
  {
   "cell_type": "code",
   "execution_count": 198,
   "metadata": {},
   "outputs": [
    {
     "name": "stdout",
     "output_type": "stream",
     "text": [
      "Status Optimal\n",
      "Objective 41.25\n",
      "x1 = 3.75\n",
      "x2 = 2.25\n"
     ]
    }
   ],
   "source": [
    "# Branch-and-Bound Method\n",
    "\n",
    "# Solve the ILP as an LP; ie. removing integer constraints\n",
    "model = LpProblem('Telfa_Example', LpMaximize)\n",
    "x = {i: LpVariable(f\"x{i}\", lowBound=0) for i in (1, 2)}\n",
    "model += 8*x[1] + 5*x[2], 'z'\n",
    "\n",
    "model += x[1] + x[2] <= 6\n",
    "model += 9*x[1] + 5*x[2] <= 45\n",
    "\n",
    "model.solve()\n",
    "\n",
    "print('Status', LpStatus[model.status])\n",
    "print('Objective', model.objective.value())\n",
    "for v in model.variables():\n",
    "    print(v, '=', v.varValue)\n",
    "    \n",
    "# fractional result of x1 and x2\n",
    "# ie. try to solve by ading constraints,\n",
    "# x[1] >= 4\n",
    "# x[1] <= 3\n"
   ]
  },
  {
   "cell_type": "code",
   "execution_count": 184,
   "metadata": {},
   "outputs": [
    {
     "name": "stdout",
     "output_type": "stream",
     "text": [
      "Status Optimal\n",
      "Objective 41.0\n",
      "x1 = 4.0\n",
      "x2 = 1.8\n"
     ]
    }
   ],
   "source": [
    "# Branch-and-Bound Method\n",
    "\n",
    "# Create subproblem 2: add constraints to restrict x1\n",
    "model = LpProblem('Telfa_Example', LpMaximize)\n",
    "x = {i: LpVariable(f\"x{i}\", lowBound=0) for i in (1, 2)}\n",
    "model += 8*x[1] + 5*x[2], 'z'\n",
    "\n",
    "model += x[1] + x[2] <= 6\n",
    "model += 9*x[1] + 5*x[2] <= 45\n",
    "model += x[1] >= 4\n",
    "\n",
    "model.solve()\n",
    "\n",
    "print('Status', LpStatus[model.status])\n",
    "print('Objective', model.objective.value())\n",
    "for v in model.variables():\n",
    "    print(v, '=', v.varValue)\n",
    "\n",
    "# as the only fractional variable,\n",
    "# we try to add constraints,\n",
    "# x[2] >= 2\n",
    "# x[2] <= 1\n"
   ]
  },
  {
   "cell_type": "code",
   "execution_count": 192,
   "metadata": {},
   "outputs": [
    {
     "name": "stdout",
     "output_type": "stream",
     "text": [
      "Status Optimal\n",
      "Objective 40.5555552\n",
      "x1 = 4.4444444\n",
      "x2 = 1.0\n"
     ]
    }
   ],
   "source": [
    "# Branch-and-Bound Method\n",
    "\n",
    "# Create subproblem 3: add constraints to restrict x2\n",
    "model = LpProblem('Telfa_Example', LpMaximize)\n",
    "x = {i: LpVariable(f\"x{i}\", lowBound=0) for i in (1, 2)}\n",
    "model += 8*x[1] + 5*x[2], 'z'\n",
    "\n",
    "model += x[1] + x[2] <= 6\n",
    "model += 9*x[1] + 5*x[2] <= 45\n",
    "model += x[1] >= 4\n",
    "model += x[2] <= 1\n",
    "\n",
    "model.solve()\n",
    "\n",
    "print('Status', LpStatus[model.status])\n",
    "print('Objective', model.objective.value())\n",
    "for v in model.variables():\n",
    "    print(v, '=', v.varValue)\n",
    "\n",
    "# since we still have fractional solutions,\n",
    "# we find that the problem is infeasible\n"
   ]
  },
  {
   "cell_type": "code",
   "execution_count": 200,
   "metadata": {},
   "outputs": [
    {
     "name": "stdout",
     "output_type": "stream",
     "text": [
      "Status Optimal\n",
      "Objective 40.0\n",
      "x1 = 5.0\n",
      "x2 = 0.0\n"
     ]
    }
   ],
   "source": [
    "# Branch-and-Bound Method\n",
    "\n",
    "# Create subproblem 4: add constraints to restrict x1\n",
    "model = LpProblem('Telfa_Example', LpMaximize)\n",
    "x = {i: LpVariable(f\"x{i}\", lowBound=0) for i in (1, 2)}\n",
    "model += 8*x[1] + 5*x[2], 'z'\n",
    "\n",
    "model += x[1] + x[2] <= 6\n",
    "model += 9*x[1] + 5*x[2] <= 45\n",
    "model += x[1] >= 5\n",
    "model += x[2] <= 1\n",
    "\n",
    "model.solve()\n",
    "\n",
    "print('Status', LpStatus[model.status])\n",
    "print('Objective', model.objective.value())\n",
    "for v in model.variables():\n",
    "    print(v, '=', v.varValue)\n",
    "\n",
    "# since we still have fractional solutions,\n",
    "# we find that the problem is infeasible\n"
   ]
  },
  {
   "cell_type": "code",
   "execution_count": 8,
   "metadata": {},
   "outputs": [
    {
     "name": "stdout",
     "output_type": "stream",
     "text": [
      "Status Infeasible\n",
      "Objective 16.666666669999998\n",
      "x1 = 0.66666667\n",
      "x2 = 1.0\n",
      "x3 = 1.0\n",
      "x4 = 1.0\n"
     ]
    }
   ],
   "source": [
    "model = LpProblem('enumeration', LpMaximize)\n",
    "x = {i: LpVariable(f\"x{i}\", cat='Binary') for i in range(1, 5)}\n",
    "\n",
    "model += x[1] + 4*x[2] + 7*x[3] + 5*x[4]\n",
    "\n",
    "model += 2*x[1] + x[2] + 2*x[3] + 4*x[4] == 10\n",
    "model += 3*x[1] - x[2] - 2*x[3] + 6*x[4] == 5\n",
    "\n",
    "model.solve()\n",
    "\n",
    "print('Status', LpStatus[model.status])\n",
    "print('Objective', model.objective.value())\n",
    "for v in model.variables():\n",
    "    print(v, '=', v.varValue)"
   ]
  }
 ],
 "metadata": {
  "kernelspec": {
   "display_name": "Python 3",
   "language": "python",
   "name": "python3"
  },
  "language_info": {
   "codemirror_mode": {
    "name": "ipython",
    "version": 3
   },
   "file_extension": ".py",
   "mimetype": "text/x-python",
   "name": "python",
   "nbconvert_exporter": "python",
   "pygments_lexer": "ipython3",
   "version": "3.7.3"
  }
 },
 "nbformat": 4,
 "nbformat_minor": 4
}
